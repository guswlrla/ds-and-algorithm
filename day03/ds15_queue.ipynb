{
 "cells": [
  {
   "cell_type": "code",
   "execution_count": 33,
   "metadata": {},
   "outputs": [],
   "source": [
    "# date : 2024-02-14\n",
    "# desc : 큐 학습 노트북"
   ]
  },
  {
   "cell_type": "markdown",
   "metadata": {},
   "source": [
    "## 자료구조와 알고리즘\n",
    "\n",
    "- 큐\n",
    "\n",
    "![queue](https://raw.githubusercontent.com/guswlrla/ds-and-algorithm/main/images/queue.png)\n",
    "\n",
    "### Queue"
   ]
  },
  {
   "cell_type": "markdown",
   "metadata": {},
   "source": [
    "1. 큐 선언"
   ]
  },
  {
   "cell_type": "code",
   "execution_count": 34,
   "metadata": {},
   "outputs": [],
   "source": [
    "queue = [None for _ in range(5)]\n",
    "front = rear = -1"
   ]
  },
  {
   "cell_type": "markdown",
   "metadata": {},
   "source": [
    "2. enqueue 구현"
   ]
  },
  {
   "cell_type": "code",
   "execution_count": 35,
   "metadata": {},
   "outputs": [],
   "source": [
    "rear += 1\n",
    "queue[rear] = '화사'\n",
    "rear += 1\n",
    "queue[rear] = '솔라'\n",
    "rear += 1\n",
    "queue[rear] = '문별'"
   ]
  },
  {
   "cell_type": "code",
   "execution_count": 41,
   "metadata": {},
   "outputs": [
    {
     "name": "stdout",
     "output_type": "stream",
     "text": [
      "Queue : \n",
      "[out]  <- None <- None <- None <- None <- None <- [in]\n"
     ]
    }
   ],
   "source": [
    "print('Queue : ')\n",
    "print('[out] ', end = ' <- ')\n",
    "for i in range(0, len(queue), 1):\n",
    "    print(queue[i], end = ' <- ')\n",
    "\n",
    "print('[in]')"
   ]
  },
  {
   "cell_type": "markdown",
   "metadata": {},
   "source": [
    "3. dequeue 구현"
   ]
  },
  {
   "cell_type": "code",
   "execution_count": 37,
   "metadata": {},
   "outputs": [
    {
     "name": "stdout",
     "output_type": "stream",
     "text": [
      "dequeue -> 화사\n"
     ]
    }
   ],
   "source": [
    "front += 1\n",
    "data = queue[front]\n",
    "queue[front] = None\n",
    "print(f'dequeue -> {data}')"
   ]
  },
  {
   "cell_type": "code",
   "execution_count": 38,
   "metadata": {},
   "outputs": [
    {
     "name": "stdout",
     "output_type": "stream",
     "text": [
      "dequeue -> 솔라\n"
     ]
    }
   ],
   "source": [
    "front += 1\n",
    "data = queue[front]\n",
    "queue[front] = None\n",
    "print(f'dequeue -> {data}')"
   ]
  },
  {
   "cell_type": "code",
   "execution_count": 39,
   "metadata": {},
   "outputs": [
    {
     "name": "stdout",
     "output_type": "stream",
     "text": [
      "dequeue -> 문별\n"
     ]
    }
   ],
   "source": [
    "front += 1\n",
    "data = queue[front]\n",
    "queue[front] = None\n",
    "print(f'dequeue -> {data}')"
   ]
  },
  {
   "cell_type": "code",
   "execution_count": 40,
   "metadata": {},
   "outputs": [
    {
     "name": "stdout",
     "output_type": "stream",
     "text": [
      "dequeue -> None\n"
     ]
    }
   ],
   "source": [
    "front += 1\n",
    "data = queue[front]\n",
    "queue[front] = None\n",
    "print(f'dequeue -> {data}')"
   ]
  }
 ],
 "metadata": {
  "kernelspec": {
   "display_name": "Python 3",
   "language": "python",
   "name": "python3"
  },
  "language_info": {
   "codemirror_mode": {
    "name": "ipython",
    "version": 3
   },
   "file_extension": ".py",
   "mimetype": "text/x-python",
   "name": "python",
   "nbconvert_exporter": "python",
   "pygments_lexer": "ipython3",
   "version": "3.11.5"
  }
 },
 "nbformat": 4,
 "nbformat_minor": 2
}
